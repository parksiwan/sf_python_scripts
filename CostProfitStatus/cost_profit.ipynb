{
 "cells": [
  {
   "cell_type": "code",
   "execution_count": 4,
   "metadata": {},
   "outputs": [
    {
     "name": "stdout",
     "output_type": "stream",
     "text": [
      "         customer sales_date   id  product_cost  product_price  sales_qty  \\\n",
      "0      Hanamaruya 2019-03-31  0.0        219.10          296.8       33.0   \n",
      "1      Hanamaruya 2019-04-30  0.0        203.45          275.6       57.0   \n",
      "2      Hanamaruya 2019-05-31  0.0        203.45          275.6       47.0   \n",
      "3      Hanamaruya 2019-06-30  0.0         15.65           21.2        3.0   \n",
      "Total         NaN        NaT  NaN           NaN            NaN        NaN   \n",
      "\n",
      "       CostAmount  PriceAmount  Profit  ProfitRatio  \n",
      "0          516.45        699.6  183.15    26.179245  \n",
      "1          892.05       1208.4  316.35    26.179245  \n",
      "2          735.55        996.4  260.85    26.179245  \n",
      "3           46.95         63.6   16.65    26.179245  \n",
      "Total     2191.00       2968.0  777.00    26.179245  \n"
     ]
    },
    {
     "name": "stderr",
     "output_type": "stream",
     "text": [
      "C:\\Users\\siwan\\Anaconda3\\envs\\dash\\lib\\site-packages\\ipykernel_launcher.py:35: SettingWithCopyWarning:\n",
      "\n",
      "\n",
      "A value is trying to be set on a copy of a slice from a DataFrame\n",
      "\n",
      "See the caveats in the documentation: http://pandas.pydata.org/pandas-docs/stable/user_guide/indexing.html#returning-a-view-versus-a-copy\n",
      "\n"
     ]
    }
   ],
   "source": [
    "import dash\n",
    "import dash_core_components as dcc\n",
    "import dash_html_components as html\n",
    "import plotly.graph_objs as go\n",
    "from dash.dependencies import Input, Output\n",
    "import pandas as pd\n",
    "import numpy as np\n",
    "from pandas.tseries.offsets import MonthEnd\n",
    "\n",
    "#app = dash.Dash()\n",
    "\n",
    "#customer_list = pd.Series()\n",
    "\n",
    "#product_list = pd.Series()\n",
    "df = pd.read_excel('sample_profit.xlsx')\n",
    "#features = df.columns\n",
    "customer_list = df['customer'].unique()\n",
    "a_customer = pd.Series(['All'])\n",
    "customer_list = np.concatenate((customer_list, a_customer))\n",
    "\n",
    "product_list = df['product_code'].unique()\n",
    "a_product = pd.Series(['All'])\n",
    "product_list = np.concatenate((product_list, a_product))\n",
    "\n",
    "df['sales_date'] = pd.to_datetime(df['sales_date'], format=\"%Y%m\") + MonthEnd(1)\n",
    "\n",
    "df['CostAmount'] = df['product_cost'] * df['sales_qty']\n",
    "df['PriceAmount'] = df['product_price'] * df['sales_qty']\n",
    "df['Profit'] = df['PriceAmount'] - df['CostAmount']\n",
    "df2 = df[df['product_code'] == 'shallot']\n",
    "df3 = df2.groupby(['customer', 'sales_date']).agg('sum')\n",
    "df3 = df3.reset_index()\n",
    "#print(df3)\n",
    "df4 = df3[df3['customer'] == 'Hanamaruya']\n",
    "df4.loc['Total', 'CostAmount'] = df4['CostAmount'].sum()\n",
    "df4.loc['Total', 'PriceAmount'] = df4['PriceAmount'].sum()\n",
    "df4.loc['Total', 'Profit'] = df4['Profit'].sum()\n",
    "df4['ProfitRatio'] = df4['Profit'] / df4['PriceAmount'] * 100\n",
    "#df4 = df4.round(2)\n",
    "print(df4)"
   ]
  },
  {
   "cell_type": "code",
   "execution_count": null,
   "metadata": {},
   "outputs": [],
   "source": []
  }
 ],
 "metadata": {
  "kernelspec": {
   "display_name": "Python 3",
   "language": "python",
   "name": "python3"
  },
  "language_info": {
   "codemirror_mode": {
    "name": "ipython",
    "version": 3
   },
   "file_extension": ".py",
   "mimetype": "text/x-python",
   "name": "python",
   "nbconvert_exporter": "python",
   "pygments_lexer": "ipython3",
   "version": "3.7.3"
  }
 },
 "nbformat": 4,
 "nbformat_minor": 2
}
